{
 "cells": [
  {
   "cell_type": "markdown",
   "metadata": {},
   "source": [
    "Ejercicio 1"
   ]
  },
  {
   "cell_type": "code",
   "execution_count": 16,
   "metadata": {},
   "outputs": [
    {
     "name": "stdout",
     "output_type": "stream",
     "text": [
      " On average, the Moon moves 4cm away from the Earth every year\n",
      " The highest daylight temperature of the Moon is 127 Celsius\n"
     ]
    }
   ],
   "source": [
    "text = \"\"\" Interesting facts about the Moon. The Moon is Earth's only satellite. There are several interesting facts about the Moon and how it affects life here on Earth. On average, the Moon moves 4cm away from the Earth every year. This yearly drift is not significant enough to cause immediate effects on Earth. The highest daylight temperature of the Moon is 127 C.\"\"\"\n",
    "\n",
    "keyText = ['average', 'temperature ', 'distance ']\n",
    "\n",
    "NewSlaces = text.split(\".\")\n",
    "\n",
    "# print (NewSlaces)\n",
    "\n",
    "for cadenas in NewSlaces:\n",
    "    for key in  keyText:\n",
    "        if cadenas.find(key) > 0:\n",
    "            print(cadenas)\n",
    "            # print(cadenas.replace('C', 'Celsius'))\n"
   ]
  },
  {
   "cell_type": "code",
   "execution_count": 17,
   "metadata": {},
   "outputs": [
    {
     "name": "stdout",
     "output_type": "stream",
     "text": [
      " On average, the Moon moves 4cm away from the Earth every year\n",
      " The highest daylight temperature of the Moon is 127 Celsius\n"
     ]
    }
   ],
   "source": [
    "\n",
    "keyText = ['average', 'temperature ', 'distance ']\n",
    "\n",
    "NewSlaces = text.split(\".\")\n",
    "\n",
    "# print (NewSlaces)\n",
    "\n",
    "for cadenas in NewSlaces:\n",
    "    for key in  keyText:\n",
    "        if cadenas.find(key) > 0:           \n",
    "            print(cadenas.replace('C', 'Celsius'))"
   ]
  },
  {
   "cell_type": "markdown",
   "metadata": {},
   "source": [
    "Ejercicio 2\n"
   ]
  },
  {
   "cell_type": "code",
   "execution_count": 26,
   "metadata": {},
   "outputs": [
    {
     "name": "stdout",
     "output_type": "stream",
     "text": [
      "Gravity Facts About Tierra \n",
      "-------------------------------------------------------------------------------\n",
      "Nombre del planeta: Tierra \n",
      "Gravedad en Moon: 1.6199999999999999 m/s2 \n",
      "\n",
      "\n",
      "Datos de Gravedad sobre: Moon\n",
      "-------------------------------------------------------------------------------\n",
      "Nombre del planeta: Tierra\n",
      "Gravedad en Moon: 1.6199999999999999 m/s2\n",
      "\n"
     ]
    }
   ],
   "source": [
    "# Datos con los que vas a trabajar\n",
    "name = \"Moon\"\n",
    "gravity = 0.00162 # in kms\n",
    "planet = \"Tierra\"\n",
    "\n",
    "titulo = f'gravity facts about {planet}'\n",
    "\n",
    "# Creamos la plantilla\n",
    "hechos = f\"\"\"\n",
    "-------------------------------------------------------------------------------\n",
    "Nombre del planeta: {planet} \n",
    "Gravedad en {name}: {gravity * 1000} m/s2 \n",
    "\"\"\"\n",
    "\n",
    "template = f\"{titulo.title()} {hechos}\"\n",
    "print (template)\n",
    "\n",
    "\n",
    "\n"
   ]
  },
  {
   "cell_type": "code",
   "execution_count": 27,
   "metadata": {},
   "outputs": [
    {
     "name": "stdout",
     "output_type": "stream",
     "text": [
      "\n",
      "Datos de Gravedad sobre: Ganímedes\n",
      "-------------------------------------------------------------------------------\n",
      "Nombre del planeta: Marte \n",
      "Gravedad en Ganímedes: 1.4300000000000002 m/s2\n",
      "\n"
     ]
    }
   ],
   "source": [
    "# Nuevos datos muestra\n",
    "planet = 'Marte '\n",
    "gravity  = 0.00143\n",
    "name = 'Ganímedes'\n",
    "\n",
    "new_template = \"\"\"\n",
    "Datos de Gravedad sobre: {name}\n",
    "-------------------------------------------------------------------------------\n",
    "Nombre del planeta: {planet}\n",
    "Gravedad en {name}: {gravity} m/s2\n",
    "\"\"\"\n",
    "print(new_template.format(name = name, planet = planet, gravity = gravity * 1000))"
   ]
  }
 ],
 "metadata": {
  "interpreter": {
   "hash": "2db524e06e9f5f4ffedc911c917cb75e12dbc923643829bf417064a77eb14d37"
  },
  "kernelspec": {
   "display_name": "Python 3.8.3 64-bit",
   "language": "python",
   "name": "python3"
  },
  "language_info": {
   "codemirror_mode": {
    "name": "ipython",
    "version": 3
   },
   "file_extension": ".py",
   "mimetype": "text/x-python",
   "name": "python",
   "nbconvert_exporter": "python",
   "pygments_lexer": "ipython3",
   "version": "3.8.3"
  },
  "orig_nbformat": 4
 },
 "nbformat": 4,
 "nbformat_minor": 2
}
