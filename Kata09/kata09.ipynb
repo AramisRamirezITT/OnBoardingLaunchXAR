{
 "cells": [
  {
   "cell_type": "markdown",
   "metadata": {},
   "source": [
    "Ejercicio 1"
   ]
  },
  {
   "cell_type": "code",
   "execution_count": 4,
   "metadata": {},
   "outputs": [
    {
     "name": "stdout",
     "output_type": "stream",
     "text": [
      "Fuel Report:\n",
      "    Total Average: 78.0%\n",
      "    Main tank: 88%\n",
      "    External tank: 76%\n",
      "    Hydrogen tank: 70% \n",
      "    \n"
     ]
    }
   ],
   "source": [
    "# Función para leer 3 tanques de combustible y muestre el promedio\n",
    "\n",
    "def Promedio(a, b , c):\n",
    "     \n",
    "    return (a + b + c) /3 \n",
    "\n",
    "\n",
    "\n",
    "\n",
    "def Reporte(tanque1, tanque2, tanque3):\n",
    "    # promedio = Promedio(tanque1, tanque2 , tanque3)\n",
    "\n",
    "    return print(\n",
    "    f\"\"\"Fuel Report:\n",
    "    Total Average: {Promedio(tanque1, tanque2 , tanque3)}%\n",
    "    Main tank: {tanque1}%\n",
    "    External tank: {tanque2}%\n",
    "    Hydrogen tank: {tanque3}% \n",
    "    \"\"\"\n",
    "    )\n",
    "\n",
    "Reporte(88, 76, 70)\n"
   ]
  },
  {
   "cell_type": "markdown",
   "metadata": {},
   "source": [
    "Ejercicio 2: Trabajo con argumentos de palabra clave"
   ]
  },
  {
   "cell_type": "code",
   "execution_count": 19,
   "metadata": {},
   "outputs": [
    {
     "name": "stdout",
     "output_type": "stream",
     "text": [
      "\n",
      "    Mission to Moon\n",
      "    Total travel time: 74 minutes\n",
      "    Total fuel left: dict_keys(['main', 'external', 'interno'])\n",
      "    \n"
     ]
    }
   ],
   "source": [
    "# Función con un informe preciso de la misión. Considera hora de prelanzamiento, tiempo de vuelo, destino, tanque externo y tanque interno\n",
    "\n",
    "def missionReport(prelanzamiento, timeFlight, destination, externalTank, mainTank):\n",
    "    return f\"\"\"\n",
    "    Mission to: {destination}\n",
    "    Total travel time: {prelanzamiento + timeFlight} minutes\n",
    "    Total fuel left: {externalTank + mainTank} gallons\n",
    "    \"\"\"\n",
    "\n",
    "\n",
    "def missionReport1(destination, *minutes, **fuel_reservoirs):\n",
    "    return f\"\"\"\n",
    "    Mission to: {destination}\n",
    "    Total travel time: {sum(minutes)} minutes\n",
    "    Total fuel left: {sum(fuel_reservoirs.values())}\n",
    "   \n",
    "    \"\"\"\n",
    "\n",
    "def missionReport2(destination, *minutes, **fuel_reservoirs):\n",
    "    \n",
    "\n",
    "    main_report = f\"\"\"\n",
    "    Mission to {destination}\n",
    "    Total travel time: {sum(minutes)} minutes\n",
    "    Total fuel left: {sum(fuel_reservoirs.values())}\n",
    "    \"\"\"\n",
    "    for tank_name, gallons in fuel_reservoirs.items():\n",
    "        main_report += f\"{tank_name} tank --> {gallons} gallons left\\n\"\n",
    "    return main_report\n",
    "\n",
    "print(missionReport2(\"Moon\", 8, 11, 55, main=300000, external=200000,interno=1))\n",
    "\n",
    "\n",
    "# print(missionReport1(\"Moon\", 10, 15, 51, 24, main=300000, external=200000, interno=1))\n"
   ]
  }
 ],
 "metadata": {
  "interpreter": {
   "hash": "2db524e06e9f5f4ffedc911c917cb75e12dbc923643829bf417064a77eb14d37"
  },
  "kernelspec": {
   "display_name": "Python 3.8.3 64-bit",
   "language": "python",
   "name": "python3"
  },
  "language_info": {
   "codemirror_mode": {
    "name": "ipython",
    "version": 3
   },
   "file_extension": ".py",
   "mimetype": "text/x-python",
   "name": "python",
   "nbconvert_exporter": "python",
   "pygments_lexer": "ipython3",
   "version": "3.8.3"
  },
  "orig_nbformat": 4
 },
 "nbformat": 4,
 "nbformat_minor": 2
}
