{
 "cells": [
  {
   "cell_type": "code",
   "execution_count": 7,
   "metadata": {},
   "outputs": [
    {
     "name": "stdout",
     "output_type": "stream",
     "text": [
      "1 sasdnjaksdnj\n",
      "2 sasdlkjnasd\n",
      "3 sasdknmalsdmn\n",
      "4 sasdasdgf\n"
     ]
    }
   ],
   "source": [
    "# Ejercicio 1\n",
    "# Declara dos variables\n",
    "planets = []\n",
    "new_planet = ''\n",
    "i = 1\n",
    "\n",
    "while new_planet.lower() != 'done':\n",
    "    if new_planet:\n",
    "        planets.append(new_planet)\n",
    "    new_planet = input('Ponle new planet ')\n",
    "\n",
    "# Ejercicio 2\n",
    "\n",
    "for planet in planets:\n",
    "    print(f'{str(i)} s{planet}')\n",
    "    i += 1\n",
    "\n",
    "\n"
   ]
  }
 ],
 "metadata": {
  "interpreter": {
   "hash": "2db524e06e9f5f4ffedc911c917cb75e12dbc923643829bf417064a77eb14d37"
  },
  "kernelspec": {
   "display_name": "Python 3.8.3 64-bit",
   "language": "python",
   "name": "python3"
  },
  "language_info": {
   "codemirror_mode": {
    "name": "ipython",
    "version": 3
   },
   "file_extension": ".py",
   "mimetype": "text/x-python",
   "name": "python",
   "nbconvert_exporter": "python",
   "pygments_lexer": "ipython3",
   "version": "3.8.3"
  },
  "orig_nbformat": 4
 },
 "nbformat": 4,
 "nbformat_minor": 2
}
